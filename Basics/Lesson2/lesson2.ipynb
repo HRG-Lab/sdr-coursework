{
 "cells": [
  {
   "cell_type": "markdown",
   "metadata": {},
   "source": [
    "# Lesson 2 - Gnuradio Basics & DSP Basics"
   ]
  },
  {
   "cell_type": "markdown",
   "metadata": {},
   "source": [
    "## Gnuradio basics\n",
    "\n",
    "### Data types\n",
    "Last lesson, we briefly mentioned data types. We'll go into a deeper discussion here. First, a reminder of the various data types you'll see in a flowgraph diagram\n",
    "\n",
    "![img](./img/lesson2_types.png)"
   ]
  },
  {
   "cell_type": "markdown",
   "metadata": {},
   "source": [
    "## I/Q Modulation and Demodulation\n",
    "\n",
    "To start this discussion about IQ modulation and demodulation, we'll start with a simple flowgraph. Construct the following in gnuradio-companion\n",
    "\n",
    "![img](./img/iq_to_file.png)"
   ]
  },
  {
   "cell_type": "markdown",
   "metadata": {},
   "source": [
    "When you run this flowgraph, it will stream data from the radio out to the file specified in the properties of the file sink block. Note you should only run this flowgraph for a few seconds before killing it. But what is this data? Well as we talked about earlier in this lesson, the key is to look at the color of the connection nodes. Between the two blocks, we see blue, which indicates this is `Complex Float 32` or a complex number represented by two 32-bit floating point numbers. Let's read this data into a numpy array and print some data."
   ]
  },
  {
   "cell_type": "code",
   "execution_count": 12,
   "metadata": {},
   "outputs": [
    {
     "name": "stdout",
     "output_type": "stream",
     "text": [
      "0j\n",
      "0j\n",
      "0j\n",
      "(3.0516698e-05+0j)\n",
      "(-3.0516698e-05-0.00012206679j)\n",
      "(-3.0516698e-05-9.155009e-05j)\n",
      "(-9.155009e-05+6.1033395e-05j)\n",
      "(-0.0002746503-6.1033395e-05j)\n",
      "(-0.00042723375+0.0001525835j)\n",
      "(-0.00033568367+0.0002746503j)\n",
      "(-0.0005493006+0.0005798173j)\n",
      "(-0.00051878387+0.001007051j)\n",
      "(-9.155009e-05+0.0011291178j)\n",
      "(-0.0001525835+0.0011291178j)\n",
      "(0.00024413358+0.001220668j)\n",
      "(0.00033568367+0.0011596346j)\n",
      "(0.00067136734+0.0009765343j)\n",
      "(0.00076291745+0.00076291745j)\n",
      "(0.0008849842+0.0001525835j)\n",
      "(0.0010986011+0.00042723375j)\n",
      "(0.0013427347+0.00021361688j)\n",
      "(0.0009765343-0.00036620037j)\n",
      "(0.00082395086-0.0002746503j)\n",
      "(0.0011596346-0.00070188404j)\n",
      "(0.00070188404-0.0010375677j)\n",
      "(0.00024413358-0.0008849842j)\n",
      "(0.00024413358-0.0011596346j)\n",
      "-0.0009765343j\n",
      "(-0.0005493006-0.0008544675j)\n",
      "(-0.00048826716-0.001220668j)\n"
     ]
    }
   ],
   "source": [
    "import numpy as np\n",
    "\n",
    "iq_data = np.fromfile(\"./data/data.bin\", np.complex64)\n",
    "_ = [print(x) for x in iq_data[20:50]] # We only need to get a sense of what this data is, so we only print a few samples. \n",
    "                                       # We start at 20 because it can take a while for the data to start flowing and the first samples are 0+j0"
   ]
  },
  {
   "cell_type": "markdown",
   "metadata": {},
   "source": [
    "Okay So we can see this is complex data, but what is it? Where did it come from? This is called IQ demodulation where IQ stands for In-phase and Quadrature. At a high level, this data can be said to be generated through a signal path like that shown in the figure.\n",
    "\n",
    "![img](./img/IQ_demod.png)"
   ]
  },
  {
   "cell_type": "markdown",
   "metadata": {},
   "source": [
    "The RF signal comes in, gets split equally and is mixed with what is a sin and a cosine at some LO frequency. But this would mean coming out of the mixer are some function of t, but all we got out of our readings from the radio was tuples of real and imaginary numbers. What are those numbers? They are simply the amplitude of cos and sin our signal was mixed with.\n",
    "\n",
    "![img](./img/IQ.png)"
   ]
  },
  {
   "cell_type": "markdown",
   "metadata": {},
   "source": [
    "This process can also be reversed which is how SDRs generate signals for transmission as shown in this figure\n",
    "\n",
    "![img](./img/IQ_mod.png)"
   ]
  },
  {
   "cell_type": "markdown",
   "metadata": {},
   "source": [
    "So now that we understand conceptually what IQ signals are, what is going on mathematically?\n",
    "\n"
   ]
  },
  {
   "cell_type": "markdown",
   "metadata": {},
   "source": [
    "This video is good demonstration of IQ modulation and demodulation"
   ]
  },
  {
   "cell_type": "code",
   "execution_count": 8,
   "metadata": {},
   "outputs": [
    {
     "data": {
      "text/html": [
       "\n",
       "        <iframe\n",
       "            width=\"800\"\n",
       "            height=\"600\"\n",
       "            src=\"https://www.youtube.com/embed/h_7d-m1ehoY\"\n",
       "            frameborder=\"0\"\n",
       "            allowfullscreen\n",
       "        ></iframe>\n",
       "        "
      ],
      "text/plain": [
       "<IPython.lib.display.IFrame at 0x7fb874280250>"
      ]
     },
     "execution_count": 8,
     "metadata": {},
     "output_type": "execute_result"
    }
   ],
   "source": [
    "from IPython.display import IFrame\n",
    "IFrame(\"https://www.youtube.com/embed/h_7d-m1ehoY\", height=600, width=800)"
   ]
  },
  {
   "cell_type": "markdown",
   "metadata": {},
   "source": [
    "#### Resources\n",
    "\n",
    "[1] http://whiteboard.ping.se/SDR/IQ\n",
    "\n",
    "[2] http://www.ni.com/tutorial/4805/en/"
   ]
  },
  {
   "cell_type": "code",
   "execution_count": null,
   "metadata": {},
   "outputs": [],
   "source": []
  }
 ],
 "metadata": {
  "kernelspec": {
   "display_name": "Python 3",
   "language": "python",
   "name": "python3"
  },
  "language_info": {
   "codemirror_mode": {
    "name": "ipython",
    "version": 3
   },
   "file_extension": ".py",
   "mimetype": "text/x-python",
   "name": "python",
   "nbconvert_exporter": "python",
   "pygments_lexer": "ipython3",
   "version": "3.8.2"
  }
 },
 "nbformat": 4,
 "nbformat_minor": 4
}

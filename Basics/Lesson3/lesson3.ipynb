{
 "cells": [
  {
   "cell_type": "markdown",
   "metadata": {},
   "source": [
    "# Lesson 3 - Building an FM receiver"
   ]
  },
  {
   "cell_type": "markdown",
   "metadata": {},
   "source": [
    "A good first \"real\" SDR project is building an FM receiver. Doing so leverages the knowledge gained over the previous two lessons and introduces some key SDR concepts. First things first, connect an antenna that operates over the FM Radio band (88 MHz - 108 MHz)"
   ]
  },
  {
   "cell_type": "markdown",
   "metadata": {},
   "source": [
    "## How does FM work?"
   ]
  },
  {
   "cell_type": "markdown",
   "metadata": {},
   "source": [
    "### Frequency modulation\n",
    "\n",
    "#TODO: Insert discussion on FM\n",
    "\n",
    "#TODO: Insert example python code"
   ]
  },
  {
   "cell_type": "markdown",
   "metadata": {},
   "source": [
    "### FM Radio Spectrum\n",
    "\n",
    "Let's build a quick spectrum analyzer to get a sense of what the FM radio spectrum looks like. Build the following flowgraph in gnuradio-companion.\n",
    "\n",
    "![img](./img/fm_spec_analyzer.png)"
   ]
  },
  {
   "cell_type": "markdown",
   "metadata": {},
   "source": [
    "This is what the radio environment looks like at my house. We can see several peaks corresponding to local FM radio stations. \n",
    "\n",
    "#TODO: Waterfall plot of FM band"
   ]
  },
  {
   "cell_type": "code",
   "execution_count": null,
   "metadata": {},
   "outputs": [],
   "source": []
  }
 ],
 "metadata": {
  "kernelspec": {
   "display_name": "Python 3",
   "language": "python",
   "name": "python3"
  },
  "language_info": {
   "codemirror_mode": {
    "name": "ipython",
    "version": 3
   },
   "file_extension": ".py",
   "mimetype": "text/x-python",
   "name": "python",
   "nbconvert_exporter": "python",
   "pygments_lexer": "ipython3",
   "version": "3.8.1"
  }
 },
 "nbformat": 4,
 "nbformat_minor": 4
}

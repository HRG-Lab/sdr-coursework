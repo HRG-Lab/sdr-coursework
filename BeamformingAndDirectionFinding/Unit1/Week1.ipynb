{
 "cells": [
  {
   "cell_type": "markdown",
   "metadata": {},
   "source": [
    "# Week 1 - Overview Fundemental EM concepts"
   ]
  },
  {
   "cell_type": "markdown",
   "metadata": {},
   "source": [
    "## Preperation\n",
    "\n",
    "Ideas:\n",
    "* Talk about basic array theory\n",
    "* What are other fundamental concepts we should talk about?\n",
    "    * Multipath since we'll be doing DOA estimation?\n",
    "* Discuss SDR architecture?\n",
    "* Get students to get their rtl-sdr up and connected to gnuradio\n",
    "* Have them run through fm radio receive flowgraph"
   ]
  },
  {
   "cell_type": "markdown",
   "metadata": {},
   "source": [
    "## Demonstration\n",
    "\n",
    "Ideas:\n",
    "* Show an rtl-sdr being tracked by a Kerberos <-- Ultimate goal of the course"
   ]
  }
 ],
 "metadata": {
  "kernelspec": {
   "display_name": "Python 3",
   "language": "python",
   "name": "python3"
  },
  "language_info": {
   "codemirror_mode": {
    "name": "ipython",
    "version": 3
   },
   "file_extension": ".py",
   "mimetype": "text/x-python",
   "name": "python",
   "nbconvert_exporter": "python",
   "pygments_lexer": "ipython3",
   "version": "3.7.2"
  }
 },
 "nbformat": 4,
 "nbformat_minor": 4
}

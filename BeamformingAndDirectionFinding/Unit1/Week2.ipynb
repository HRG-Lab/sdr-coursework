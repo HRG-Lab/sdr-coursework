{
 "cells": [
  {
   "cell_type": "markdown",
   "metadata": {},
   "source": [
    "# Week 2 - Overview Fundemental Comm/DSP concepts"
   ]
  },
  {
   "cell_type": "markdown",
   "metadata": {},
   "source": [
    "# Intro to Python / Gnuradio\n",
    "\n",
    "Ideas: \n",
    "* Explain how gnuradio works (i.e. how python code is generated, what it does, etc) <-- Do we need to go this deep?"
   ]
  },
  {
   "cell_type": "markdown",
   "metadata": {},
   "source": [
    "## Fundamental Comm / DSP Concepts\n",
    "\n",
    "Ideas:\n",
    "* Maybe IQ discussion is best moved to here\n",
    "* Michael Ossman's tutorials are exclusively about DSP and I think are quite good\n",
    "* What would a lab experiment look like for this? Implement a basic signal processing chain in gnuradio?"
   ]
  },
  {
   "cell_type": "code",
   "execution_count": null,
   "metadata": {},
   "outputs": [],
   "source": []
  }
 ],
 "metadata": {
  "kernelspec": {
   "display_name": "Python 3",
   "language": "python",
   "name": "python3"
  },
  "language_info": {
   "codemirror_mode": {
    "name": "ipython",
    "version": 3
   },
   "file_extension": ".py",
   "mimetype": "text/x-python",
   "name": "python",
   "nbconvert_exporter": "python",
   "pygments_lexer": "ipython3",
   "version": "3.7.2"
  }
 },
 "nbformat": 4,
 "nbformat_minor": 4
}
